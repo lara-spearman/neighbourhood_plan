{
 "cells": [
  {
   "cell_type": "code",
   "execution_count": null,
   "id": "b22aa3f9",
   "metadata": {},
   "outputs": [],
   "source": [
    "def test_function():\n",
    "    print('hello')"
   ]
  }
 ],
 "metadata": {
  "kernelspec": {
   "display_name": "Python 3",
   "language": "python",
   "name": "python3"
  },
  "language_info": {
   "name": "python",
   "version": "3.11.9"
  }
 },
 "nbformat": 4,
 "nbformat_minor": 5
}
